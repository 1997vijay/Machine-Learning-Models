{
    "cells": [
        {
            "cell_type": "code",
            "execution_count": 3,
            "metadata": {},
            "outputs": [],
            "source": "import numpy as np\nimport pandas as pd\nimport matplotlib.pyplot as plt\nimport seaborn as sns\n%matplotlib inline"
        },
        {
            "cell_type": "code",
            "execution_count": 4,
            "metadata": {},
            "outputs": [
                {
                    "data": {
                        "text/html": "<div>\n<style scoped>\n    .dataframe tbody tr th:only-of-type {\n        vertical-align: middle;\n    }\n\n    .dataframe tbody tr th {\n        vertical-align: top;\n    }\n\n    .dataframe thead th {\n        text-align: right;\n    }\n</style>\n<table border=\"1\" class=\"dataframe\">\n  <thead>\n    <tr style=\"text-align: right;\">\n      <th></th>\n      <th>gender</th>\n      <th>married</th>\n      <th>ch</th>\n      <th>income</th>\n      <th>loanamt</th>\n      <th>status</th>\n    </tr>\n  </thead>\n  <tbody>\n    <tr>\n      <th>0</th>\n      <td>Male</td>\n      <td>No</td>\n      <td>1.0</td>\n      <td>5849</td>\n      <td>NaN</td>\n      <td>Y</td>\n    </tr>\n    <tr>\n      <th>1</th>\n      <td>Male</td>\n      <td>Yes</td>\n      <td>1.0</td>\n      <td>4583</td>\n      <td>128.0</td>\n      <td>N</td>\n    </tr>\n    <tr>\n      <th>2</th>\n      <td>Male</td>\n      <td>Yes</td>\n      <td>1.0</td>\n      <td>3000</td>\n      <td>66.0</td>\n      <td>Y</td>\n    </tr>\n    <tr>\n      <th>3</th>\n      <td>Male</td>\n      <td>Yes</td>\n      <td>1.0</td>\n      <td>2583</td>\n      <td>120.0</td>\n      <td>Y</td>\n    </tr>\n    <tr>\n      <th>4</th>\n      <td>Male</td>\n      <td>No</td>\n      <td>1.0</td>\n      <td>6000</td>\n      <td>141.0</td>\n      <td>Y</td>\n    </tr>\n  </tbody>\n</table>\n</div>",
                        "text/plain": "  gender married   ch  income  loanamt status\n0   Male      No  1.0    5849      NaN      Y\n1   Male     Yes  1.0    4583    128.0      N\n2   Male     Yes  1.0    3000     66.0      Y\n3   Male     Yes  1.0    2583    120.0      Y\n4   Male      No  1.0    6000    141.0      Y"
                    },
                    "execution_count": 4,
                    "metadata": {},
                    "output_type": "execute_result"
                }
            ],
            "source": "# The code was removed by Watson Studio for sharing."
        },
        {
            "cell_type": "code",
            "execution_count": 5,
            "metadata": {},
            "outputs": [
                {
                    "data": {
                        "text/html": "<div>\n<style scoped>\n    .dataframe tbody tr th:only-of-type {\n        vertical-align: middle;\n    }\n\n    .dataframe tbody tr th {\n        vertical-align: top;\n    }\n\n    .dataframe thead th {\n        text-align: right;\n    }\n</style>\n<table border=\"1\" class=\"dataframe\">\n  <thead>\n    <tr style=\"text-align: right;\">\n      <th></th>\n      <th>gender</th>\n      <th>married</th>\n      <th>ch</th>\n      <th>income</th>\n      <th>loanamt</th>\n      <th>status</th>\n    </tr>\n  </thead>\n  <tbody>\n    <tr>\n      <th>0</th>\n      <td>Male</td>\n      <td>No</td>\n      <td>1.0</td>\n      <td>5849</td>\n      <td>NaN</td>\n      <td>Y</td>\n    </tr>\n    <tr>\n      <th>1</th>\n      <td>Male</td>\n      <td>Yes</td>\n      <td>1.0</td>\n      <td>4583</td>\n      <td>128.0</td>\n      <td>N</td>\n    </tr>\n    <tr>\n      <th>2</th>\n      <td>Male</td>\n      <td>Yes</td>\n      <td>1.0</td>\n      <td>3000</td>\n      <td>66.0</td>\n      <td>Y</td>\n    </tr>\n    <tr>\n      <th>3</th>\n      <td>Male</td>\n      <td>Yes</td>\n      <td>1.0</td>\n      <td>2583</td>\n      <td>120.0</td>\n      <td>Y</td>\n    </tr>\n    <tr>\n      <th>4</th>\n      <td>Male</td>\n      <td>No</td>\n      <td>1.0</td>\n      <td>6000</td>\n      <td>141.0</td>\n      <td>Y</td>\n    </tr>\n  </tbody>\n</table>\n</div>",
                        "text/plain": "  gender married   ch  income  loanamt status\n0   Male      No  1.0    5849      NaN      Y\n1   Male     Yes  1.0    4583    128.0      N\n2   Male     Yes  1.0    3000     66.0      Y\n3   Male     Yes  1.0    2583    120.0      Y\n4   Male      No  1.0    6000    141.0      Y"
                    },
                    "execution_count": 5,
                    "metadata": {},
                    "output_type": "execute_result"
                }
            ],
            "source": "df=df_data_1\ndf.head()"
        },
        {
            "cell_type": "code",
            "execution_count": 3,
            "metadata": {},
            "outputs": [
                {
                    "data": {
                        "text/plain": "(614, 6)"
                    },
                    "execution_count": 3,
                    "metadata": {},
                    "output_type": "execute_result"
                }
            ],
            "source": "df.shape"
        },
        {
            "cell_type": "markdown",
            "metadata": {},
            "source": "## Explore the data sets "
        },
        {
            "cell_type": "code",
            "execution_count": 6,
            "metadata": {},
            "outputs": [
                {
                    "data": {
                        "text/html": "<div>\n<style scoped>\n    .dataframe tbody tr th:only-of-type {\n        vertical-align: middle;\n    }\n\n    .dataframe tbody tr th {\n        vertical-align: top;\n    }\n\n    .dataframe thead th {\n        text-align: right;\n    }\n</style>\n<table border=\"1\" class=\"dataframe\">\n  <thead>\n    <tr style=\"text-align: right;\">\n      <th></th>\n      <th>gender</th>\n      <th>married</th>\n      <th>ch</th>\n      <th>income</th>\n      <th>loanamt</th>\n      <th>status</th>\n    </tr>\n  </thead>\n  <tbody>\n    <tr>\n      <th>0</th>\n      <td>Male</td>\n      <td>No</td>\n      <td>1.0</td>\n      <td>5849</td>\n      <td>NaN</td>\n      <td>Y</td>\n    </tr>\n    <tr>\n      <th>1</th>\n      <td>Male</td>\n      <td>Yes</td>\n      <td>1.0</td>\n      <td>4583</td>\n      <td>128.0</td>\n      <td>N</td>\n    </tr>\n    <tr>\n      <th>2</th>\n      <td>Male</td>\n      <td>Yes</td>\n      <td>1.0</td>\n      <td>3000</td>\n      <td>66.0</td>\n      <td>Y</td>\n    </tr>\n    <tr>\n      <th>3</th>\n      <td>Male</td>\n      <td>Yes</td>\n      <td>1.0</td>\n      <td>2583</td>\n      <td>120.0</td>\n      <td>Y</td>\n    </tr>\n    <tr>\n      <th>4</th>\n      <td>Male</td>\n      <td>No</td>\n      <td>1.0</td>\n      <td>6000</td>\n      <td>141.0</td>\n      <td>Y</td>\n    </tr>\n  </tbody>\n</table>\n</div>",
                        "text/plain": "  gender married   ch  income  loanamt status\n0   Male      No  1.0    5849      NaN      Y\n1   Male     Yes  1.0    4583    128.0      N\n2   Male     Yes  1.0    3000     66.0      Y\n3   Male     Yes  1.0    2583    120.0      Y\n4   Male      No  1.0    6000    141.0      Y"
                    },
                    "execution_count": 6,
                    "metadata": {},
                    "output_type": "execute_result"
                }
            ],
            "source": "loan_data=df.copy()\nloan_data.head()"
        },
        {
            "cell_type": "code",
            "execution_count": 9,
            "metadata": {},
            "outputs": [
                {
                    "data": {
                        "text/plain": "gender     13\nmarried     3\nch         50\nincome      0\nloanamt    22\nstatus      0\ndtype: int64"
                    },
                    "execution_count": 9,
                    "metadata": {},
                    "output_type": "execute_result"
                }
            ],
            "source": "#checking for null records\nloan_data.isnull().sum()"
        },
        {
            "cell_type": "code",
            "execution_count": 11,
            "metadata": {},
            "outputs": [
                {
                    "data": {
                        "text/plain": "0"
                    },
                    "execution_count": 11,
                    "metadata": {},
                    "output_type": "execute_result"
                }
            ],
            "source": "loan_data.duplicated().sum()"
        },
        {
            "cell_type": "code",
            "execution_count": 16,
            "metadata": {},
            "outputs": [
                {
                    "data": {
                        "text/plain": "1.0"
                    },
                    "execution_count": 16,
                    "metadata": {},
                    "output_type": "execute_result"
                }
            ],
            "source": "loan_data['ch'].mode()[0]"
        },
        {
            "cell_type": "code",
            "execution_count": 7,
            "metadata": {},
            "outputs": [],
            "source": "#replacing the null value in loanamt with mean of loanamt\nloan_data['loanamt'].fillna(loan_data['loanamt'].mean(),inplace=True)"
        },
        {
            "cell_type": "code",
            "execution_count": 8,
            "metadata": {},
            "outputs": [],
            "source": "#replcaeing the null value in ch column with most repeated value\nloan_data['ch'].fillna(loan_data['ch'].mode()[0],inplace=True)"
        },
        {
            "cell_type": "code",
            "execution_count": 9,
            "metadata": {},
            "outputs": [
                {
                    "data": {
                        "text/plain": "gender     13\nmarried     3\nch          0\nincome      0\nloanamt     0\nstatus      0\ndtype: int64"
                    },
                    "execution_count": 9,
                    "metadata": {},
                    "output_type": "execute_result"
                }
            ],
            "source": "loan_data.isnull().sum()"
        },
        {
            "cell_type": "code",
            "execution_count": 10,
            "metadata": {},
            "outputs": [],
            "source": "#dripping rest of the null records\nloan_data.dropna(axis=0,inplace=True)"
        },
        {
            "cell_type": "code",
            "execution_count": 11,
            "metadata": {},
            "outputs": [
                {
                    "data": {
                        "text/plain": "gender     0\nmarried    0\nch         0\nincome     0\nloanamt    0\nstatus     0\ndtype: int64"
                    },
                    "execution_count": 11,
                    "metadata": {},
                    "output_type": "execute_result"
                }
            ],
            "source": "loan_data.isnull().sum()"
        },
        {
            "cell_type": "code",
            "execution_count": 12,
            "metadata": {},
            "outputs": [],
            "source": "loan_data.drop(['gender'],axis=1,inplace=True)"
        },
        {
            "cell_type": "code",
            "execution_count": 13,
            "metadata": {},
            "outputs": [
                {
                    "data": {
                        "text/html": "<div>\n<style scoped>\n    .dataframe tbody tr th:only-of-type {\n        vertical-align: middle;\n    }\n\n    .dataframe tbody tr th {\n        vertical-align: top;\n    }\n\n    .dataframe thead th {\n        text-align: right;\n    }\n</style>\n<table border=\"1\" class=\"dataframe\">\n  <thead>\n    <tr style=\"text-align: right;\">\n      <th></th>\n      <th>married</th>\n      <th>ch</th>\n      <th>income</th>\n      <th>loanamt</th>\n      <th>status</th>\n    </tr>\n  </thead>\n  <tbody>\n    <tr>\n      <th>0</th>\n      <td>No</td>\n      <td>1.0</td>\n      <td>5849</td>\n      <td>146.412162</td>\n      <td>Y</td>\n    </tr>\n    <tr>\n      <th>1</th>\n      <td>Yes</td>\n      <td>1.0</td>\n      <td>4583</td>\n      <td>128.000000</td>\n      <td>N</td>\n    </tr>\n    <tr>\n      <th>2</th>\n      <td>Yes</td>\n      <td>1.0</td>\n      <td>3000</td>\n      <td>66.000000</td>\n      <td>Y</td>\n    </tr>\n    <tr>\n      <th>3</th>\n      <td>Yes</td>\n      <td>1.0</td>\n      <td>2583</td>\n      <td>120.000000</td>\n      <td>Y</td>\n    </tr>\n    <tr>\n      <th>4</th>\n      <td>No</td>\n      <td>1.0</td>\n      <td>6000</td>\n      <td>141.000000</td>\n      <td>Y</td>\n    </tr>\n  </tbody>\n</table>\n</div>",
                        "text/plain": "  married   ch  income     loanamt status\n0      No  1.0    5849  146.412162      Y\n1     Yes  1.0    4583  128.000000      N\n2     Yes  1.0    3000   66.000000      Y\n3     Yes  1.0    2583  120.000000      Y\n4      No  1.0    6000  141.000000      Y"
                    },
                    "execution_count": 13,
                    "metadata": {},
                    "output_type": "execute_result"
                }
            ],
            "source": "loan_data.head()"
        },
        {
            "cell_type": "code",
            "execution_count": 36,
            "metadata": {},
            "outputs": [
                {
                    "data": {
                        "text/plain": "married     object\nch         float64\nincome       int64\nloanamt    float64\nstatus      object\ndtype: object"
                    },
                    "execution_count": 36,
                    "metadata": {},
                    "output_type": "execute_result"
                }
            ],
            "source": "loan_data.dtypes"
        },
        {
            "cell_type": "code",
            "execution_count": 14,
            "metadata": {},
            "outputs": [
                {
                    "name": "stdout",
                    "output_type": "stream",
                    "text": "Success!!\n"
                }
            ],
            "source": "#converting column 'married' and 'status' from data type object to category \ncolumns=['married','status','ch']\nfor c in columns:\n    loan_data[c]=loan_data[c].astype('category')\nprint('Success!!')"
        },
        {
            "cell_type": "code",
            "execution_count": 15,
            "metadata": {},
            "outputs": [
                {
                    "data": {
                        "text/plain": "married    category\nch         category\nincome        int64\nloanamt     float64\nstatus     category\ndtype: object"
                    },
                    "execution_count": 15,
                    "metadata": {},
                    "output_type": "execute_result"
                }
            ],
            "source": "loan_data.dtypes"
        },
        {
            "cell_type": "code",
            "execution_count": 16,
            "metadata": {},
            "outputs": [
                {
                    "data": {
                        "text/html": "<div>\n<style scoped>\n    .dataframe tbody tr th:only-of-type {\n        vertical-align: middle;\n    }\n\n    .dataframe tbody tr th {\n        vertical-align: top;\n    }\n\n    .dataframe thead th {\n        text-align: right;\n    }\n</style>\n<table border=\"1\" class=\"dataframe\">\n  <thead>\n    <tr style=\"text-align: right;\">\n      <th></th>\n      <th>income</th>\n      <th>loanamt</th>\n      <th>married_Yes</th>\n      <th>ch_1.0</th>\n      <th>status_Y</th>\n    </tr>\n  </thead>\n  <tbody>\n    <tr>\n      <th>0</th>\n      <td>5849</td>\n      <td>146.412162</td>\n      <td>0</td>\n      <td>1</td>\n      <td>1</td>\n    </tr>\n    <tr>\n      <th>1</th>\n      <td>4583</td>\n      <td>128.000000</td>\n      <td>1</td>\n      <td>1</td>\n      <td>0</td>\n    </tr>\n    <tr>\n      <th>2</th>\n      <td>3000</td>\n      <td>66.000000</td>\n      <td>1</td>\n      <td>1</td>\n      <td>1</td>\n    </tr>\n    <tr>\n      <th>3</th>\n      <td>2583</td>\n      <td>120.000000</td>\n      <td>1</td>\n      <td>1</td>\n      <td>1</td>\n    </tr>\n    <tr>\n      <th>4</th>\n      <td>6000</td>\n      <td>141.000000</td>\n      <td>0</td>\n      <td>1</td>\n      <td>1</td>\n    </tr>\n  </tbody>\n</table>\n</div>",
                        "text/plain": "   income     loanamt  married_Yes  ch_1.0  status_Y\n0    5849  146.412162            0       1         1\n1    4583  128.000000            1       1         0\n2    3000   66.000000            1       1         1\n3    2583  120.000000            1       1         1\n4    6000  141.000000            0       1         1"
                    },
                    "execution_count": 16,
                    "metadata": {},
                    "output_type": "execute_result"
                }
            ],
            "source": "# create dummy variable for category column\nloan_data=pd.get_dummies(loan_data,drop_first=True)\nloan_data.head()"
        },
        {
            "cell_type": "code",
            "execution_count": 17,
            "metadata": {},
            "outputs": [
                {
                    "name": "stdout",
                    "output_type": "stream",
                    "text": "Success!\n"
                }
            ],
            "source": "#normlize the income and loanamt column as it contain large count\nfrom sklearn.preprocessing import StandardScaler\nsc=StandardScaler()\nloan_data['income']=sc.fit_transform(loan_data[['income']])\nloan_data['loanamt']=sc.fit_transform(loan_data[['loanamt']])\nprint('Success!')"
        },
        {
            "cell_type": "code",
            "execution_count": 18,
            "metadata": {},
            "outputs": [
                {
                    "data": {
                        "text/html": "<div>\n<style scoped>\n    .dataframe tbody tr th:only-of-type {\n        vertical-align: middle;\n    }\n\n    .dataframe tbody tr th {\n        vertical-align: top;\n    }\n\n    .dataframe thead th {\n        text-align: right;\n    }\n</style>\n<table border=\"1\" class=\"dataframe\">\n  <thead>\n    <tr style=\"text-align: right;\">\n      <th></th>\n      <th>income</th>\n      <th>loanamt</th>\n      <th>married_Yes</th>\n      <th>ch_1.0</th>\n      <th>status_Y</th>\n    </tr>\n  </thead>\n  <tbody>\n    <tr>\n      <th>0</th>\n      <td>0.095951</td>\n      <td>0.017158</td>\n      <td>0</td>\n      <td>1</td>\n      <td>1</td>\n    </tr>\n    <tr>\n      <th>1</th>\n      <td>-0.122234</td>\n      <td>-0.209680</td>\n      <td>1</td>\n      <td>1</td>\n      <td>0</td>\n    </tr>\n    <tr>\n      <th>2</th>\n      <td>-0.395052</td>\n      <td>-0.973518</td>\n      <td>1</td>\n      <td>1</td>\n      <td>1</td>\n    </tr>\n    <tr>\n      <th>3</th>\n      <td>-0.466919</td>\n      <td>-0.308239</td>\n      <td>1</td>\n      <td>1</td>\n      <td>1</td>\n    </tr>\n    <tr>\n      <th>4</th>\n      <td>0.121975</td>\n      <td>-0.049520</td>\n      <td>0</td>\n      <td>1</td>\n      <td>1</td>\n    </tr>\n  </tbody>\n</table>\n</div>",
                        "text/plain": "     income   loanamt  married_Yes  ch_1.0  status_Y\n0  0.095951  0.017158            0       1         1\n1 -0.122234 -0.209680            1       1         0\n2 -0.395052 -0.973518            1       1         1\n3 -0.466919 -0.308239            1       1         1\n4  0.121975 -0.049520            0       1         1"
                    },
                    "execution_count": 18,
                    "metadata": {},
                    "output_type": "execute_result"
                }
            ],
            "source": "loan_data.head()"
        },
        {
            "cell_type": "code",
            "execution_count": 19,
            "metadata": {},
            "outputs": [
                {
                    "data": {
                        "text/plain": "<matplotlib.axes._subplots.AxesSubplot at 0x7ffa10e51f50>"
                    },
                    "execution_count": 19,
                    "metadata": {},
                    "output_type": "execute_result"
                },
                {
                    "data": {
                        "image/png": "[encoded data removed]",
                        "text/plain": "<Figure size 432x288 with 1 Axes>"
                    },
                    "metadata": {
                        "needs_background": "light"
                    },
                    "output_type": "display_data"
                }
            ],
            "source": "loan_data[['married_Yes','status_Y']].groupby('married_Yes').mean().plot(kind='bar')"
        },
        {
            "cell_type": "code",
            "execution_count": 20,
            "metadata": {},
            "outputs": [],
            "source": "#feature selection\nX=loan_data[loan_data.columns[:-1]]\ny=loan_data[loan_data.columns[-1]]"
        },
        {
            "cell_type": "code",
            "execution_count": 21,
            "metadata": {},
            "outputs": [
                {
                    "name": "stdout",
                    "output_type": "stream",
                    "text": "Test Size:(120, 4)\nTrain Size:(478, 4)\n"
                }
            ],
            "source": "#splitting the data\nfrom sklearn.model_selection import train_test_split\nx_train,x_test,y_train,y_test=train_test_split(X,y,test_size=0.2,random_state=42,stratify=y)\nprint('Test Size:{}'.format(x_test.shape))\nprint('Train Size:{}'.format(x_train.shape))"
        },
        {
            "cell_type": "code",
            "execution_count": 22,
            "metadata": {},
            "outputs": [
                {
                    "data": {
                        "text/plain": "array([1, 1, 1, 1, 1], dtype=uint8)"
                    },
                    "execution_count": 22,
                    "metadata": {},
                    "output_type": "execute_result"
                }
            ],
            "source": "#importing logistic regression and fitting the data\nfrom sklearn.linear_model import LogisticRegression\nlr=LogisticRegression()\ncnf=lr.fit(x_train,y_train)\ny_pr=lr.predict(x_test)\n\ny_pr[0:5]"
        },
        {
            "cell_type": "code",
            "execution_count": 29,
            "metadata": {},
            "outputs": [
                {
                    "name": "stdout",
                    "output_type": "stream",
                    "text": "Accuracy Score:0.81\nAccuracy Score:0.81\n"
                }
            ],
            "source": "from sklearn.metrics import confusion_matrix,accuracy_score,plot_confusion_matrix\nscore = lr.score(x_test, y_test)\ncnf=confusion_matrix(y_test,y_pr)\nprint('Accuracy Score:%.2f'%accuracy_score(y_test,y_pr))\nprint('Accuracy Score:%.2f'%score)"
        },
        {
            "cell_type": "code",
            "execution_count": 30,
            "metadata": {},
            "outputs": [
                {
                    "name": "stdout",
                    "output_type": "stream",
                    "text": "Test Size:(120, 4)\n"
                },
                {
                    "data": {
                        "image/png": "[encoded data removed]",
                        "text/plain": "<Figure size 648x432 with 2 Axes>"
                    },
                    "metadata": {
                        "needs_background": "light"
                    },
                    "output_type": "display_data"
                }
            ],
            "source": "print('Test Size:{}'.format(x_test.shape))\n\nplt.figure(figsize=(9,6))\nsns.heatmap(cnf, annot=True);\nplt.ylabel('Actual label');\nplt.xlabel('Predicted label');\nall_sample_title = 'Accuracy Score:%.2f'%score\nplt.title(all_sample_title, size = 15);"
        },
        {
            "cell_type": "markdown",
            "metadata": {},
            "source": "### So out of 120 we correctly predict 97 with accuracy of 0.81 (<b style='color:green'>81%</b>) which is good. "
        },
        {
            "cell_type": "code",
            "execution_count": null,
            "metadata": {},
            "outputs": [],
            "source": ""
        }
    ],
    "metadata": {
        "kernelspec": {
            "display_name": "Python 3.7",
            "language": "python",
            "name": "python3"
        },
        "language_info": {
            "codemirror_mode": {
                "name": "ipython",
                "version": 3
            },
            "file_extension": ".py",
            "mimetype": "text/x-python",
            "name": "python",
            "nbconvert_exporter": "python",
            "pygments_lexer": "ipython3",
            "version": "3.7.9"
        }
    },
    "nbformat": 4,
    "nbformat_minor": 1
}