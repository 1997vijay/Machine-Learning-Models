{
 "cells": [
  {
   "cell_type": "code",
   "execution_count": 1,
   "metadata": {},
   "outputs": [],
   "source": [
    "import numpy as np\n",
    "import pandas as pd\n",
    "import matplotlib.pyplot as plt\n",
    "import seaborn as sns\n",
    "%matplotlib inline"
   ]
  },
  {
   "cell_type": "markdown",
   "metadata": {},
   "source": [
    "   -- The attributes are:\n",
    "<ol>   \n",
    "<li>Alcohol</li>\n",
    "<li> Malic acid</li>\n",
    "<li>Ash</li>\n",
    "<li>Alcalinity of ash </li> \n",
    "<li>Magnesium</li>\n",
    "<li>Total phenols</li>\n",
    "<li>Flavanoids</li>\n",
    "<li>Nonflavanoid phenols</li>\n",
    "<li>Proanthocyanins</li>\n",
    "<li>Color intensity</li>\n",
    "<li>Hue</li>\n",
    "<li>OD280/OD315 of diluted wines</li>\n",
    "<li>Proline </li>\n",
    "    </ol>"
   ]
  },
  {
   "cell_type": "markdown",
   "metadata": {},
   "source": [
    "#### Data Source : <a href=\"https://archive.ics.uci.edu/ml/machine-learning-databases/wine/\">Machine Learning Repository</a>"
   ]
  },
  {
   "cell_type": "code",
   "execution_count": 2,
   "metadata": {},
   "outputs": [
    {
     "data": {
      "text/html": [
       "<div>\n",
       "<style scoped>\n",
       "    .dataframe tbody tr th:only-of-type {\n",
       "        vertical-align: middle;\n",
       "    }\n",
       "\n",
       "    .dataframe tbody tr th {\n",
       "        vertical-align: top;\n",
       "    }\n",
       "\n",
       "    .dataframe thead th {\n",
       "        text-align: right;\n",
       "    }\n",
       "</style>\n",
       "<table border=\"1\" class=\"dataframe\">\n",
       "  <thead>\n",
       "    <tr style=\"text-align: right;\">\n",
       "      <th></th>\n",
       "      <th>Class</th>\n",
       "      <th>Alcohol</th>\n",
       "      <th>M_acid</th>\n",
       "      <th>Ash</th>\n",
       "      <th>Alc_ash</th>\n",
       "      <th>Mag</th>\n",
       "      <th>phenols</th>\n",
       "      <th>Flavanoids</th>\n",
       "      <th>Non_phenols</th>\n",
       "      <th>Proanthocyanins</th>\n",
       "      <th>C_ntensity</th>\n",
       "      <th>Hue</th>\n",
       "      <th>diluted_wines</th>\n",
       "      <th>Proline</th>\n",
       "    </tr>\n",
       "  </thead>\n",
       "  <tbody>\n",
       "    <tr>\n",
       "      <th>0</th>\n",
       "      <td>1</td>\n",
       "      <td>14.23</td>\n",
       "      <td>1.71</td>\n",
       "      <td>2.43</td>\n",
       "      <td>15.6</td>\n",
       "      <td>127</td>\n",
       "      <td>2.80</td>\n",
       "      <td>3.06</td>\n",
       "      <td>0.28</td>\n",
       "      <td>2.29</td>\n",
       "      <td>5.64</td>\n",
       "      <td>1.04</td>\n",
       "      <td>3.92</td>\n",
       "      <td>1065</td>\n",
       "    </tr>\n",
       "    <tr>\n",
       "      <th>1</th>\n",
       "      <td>1</td>\n",
       "      <td>13.20</td>\n",
       "      <td>1.78</td>\n",
       "      <td>2.14</td>\n",
       "      <td>11.2</td>\n",
       "      <td>100</td>\n",
       "      <td>2.65</td>\n",
       "      <td>2.76</td>\n",
       "      <td>0.26</td>\n",
       "      <td>1.28</td>\n",
       "      <td>4.38</td>\n",
       "      <td>1.05</td>\n",
       "      <td>3.40</td>\n",
       "      <td>1050</td>\n",
       "    </tr>\n",
       "    <tr>\n",
       "      <th>2</th>\n",
       "      <td>1</td>\n",
       "      <td>13.16</td>\n",
       "      <td>2.36</td>\n",
       "      <td>2.67</td>\n",
       "      <td>18.6</td>\n",
       "      <td>101</td>\n",
       "      <td>2.80</td>\n",
       "      <td>3.24</td>\n",
       "      <td>0.30</td>\n",
       "      <td>2.81</td>\n",
       "      <td>5.68</td>\n",
       "      <td>1.03</td>\n",
       "      <td>3.17</td>\n",
       "      <td>1185</td>\n",
       "    </tr>\n",
       "    <tr>\n",
       "      <th>3</th>\n",
       "      <td>1</td>\n",
       "      <td>14.37</td>\n",
       "      <td>1.95</td>\n",
       "      <td>2.50</td>\n",
       "      <td>16.8</td>\n",
       "      <td>113</td>\n",
       "      <td>3.85</td>\n",
       "      <td>3.49</td>\n",
       "      <td>0.24</td>\n",
       "      <td>2.18</td>\n",
       "      <td>7.80</td>\n",
       "      <td>0.86</td>\n",
       "      <td>3.45</td>\n",
       "      <td>1480</td>\n",
       "    </tr>\n",
       "    <tr>\n",
       "      <th>4</th>\n",
       "      <td>1</td>\n",
       "      <td>13.24</td>\n",
       "      <td>2.59</td>\n",
       "      <td>2.87</td>\n",
       "      <td>21.0</td>\n",
       "      <td>118</td>\n",
       "      <td>2.80</td>\n",
       "      <td>2.69</td>\n",
       "      <td>0.39</td>\n",
       "      <td>1.82</td>\n",
       "      <td>4.32</td>\n",
       "      <td>1.04</td>\n",
       "      <td>2.93</td>\n",
       "      <td>735</td>\n",
       "    </tr>\n",
       "  </tbody>\n",
       "</table>\n",
       "</div>"
      ],
      "text/plain": [
       "   Class  Alcohol  M_acid   Ash  Alc_ash  Mag  phenols  Flavanoids  \\\n",
       "0      1    14.23    1.71  2.43     15.6  127     2.80        3.06   \n",
       "1      1    13.20    1.78  2.14     11.2  100     2.65        2.76   \n",
       "2      1    13.16    2.36  2.67     18.6  101     2.80        3.24   \n",
       "3      1    14.37    1.95  2.50     16.8  113     3.85        3.49   \n",
       "4      1    13.24    2.59  2.87     21.0  118     2.80        2.69   \n",
       "\n",
       "   Non_phenols  Proanthocyanins  C_ntensity   Hue  diluted_wines  Proline  \n",
       "0         0.28             2.29        5.64  1.04           3.92     1065  \n",
       "1         0.26             1.28        4.38  1.05           3.40     1050  \n",
       "2         0.30             2.81        5.68  1.03           3.17     1185  \n",
       "3         0.24             2.18        7.80  0.86           3.45     1480  \n",
       "4         0.39             1.82        4.32  1.04           2.93      735  "
      ]
     },
     "execution_count": 2,
     "metadata": {},
     "output_type": "execute_result"
    }
   ],
   "source": [
    "df=pd.read_csv(\"wine.csv\",names=['Class','Alcohol','M_acid','Ash','Alc_ash','Mag','phenols','Flavanoids','Non_phenols','Proanthocyanins','C_ntensity','Hue','diluted_wines','Proline'])\n",
    "df.head()"
   ]
  },
  {
   "cell_type": "code",
   "execution_count": 3,
   "metadata": {},
   "outputs": [
    {
     "data": {
      "text/plain": [
       "2    71\n",
       "1    59\n",
       "3    48\n",
       "Name: Class, dtype: int64"
      ]
     },
     "execution_count": 3,
     "metadata": {},
     "output_type": "execute_result"
    }
   ],
   "source": [
    "df['Class'].value_counts() #target variable"
   ]
  },
  {
   "cell_type": "code",
   "execution_count": 9,
   "metadata": {},
   "outputs": [
    {
     "data": {
      "text/plain": [
       "(178, 14)"
      ]
     },
     "execution_count": 9,
     "metadata": {},
     "output_type": "execute_result"
    }
   ],
   "source": [
    "df.shape"
   ]
  },
  {
   "cell_type": "code",
   "execution_count": 10,
   "metadata": {},
   "outputs": [
    {
     "data": {
      "text/plain": [
       "Class              0\n",
       "Alcohol            0\n",
       "M_acid             0\n",
       "Ash                0\n",
       "Alc_ash            0\n",
       "Mag                0\n",
       "phenols            0\n",
       "Flavanoids         0\n",
       "Non_phenols        0\n",
       "Proanthocyanins    0\n",
       "C_ntensity         0\n",
       "Hue                0\n",
       "diluted_wines      0\n",
       "Proline            0\n",
       "dtype: int64"
      ]
     },
     "execution_count": 10,
     "metadata": {},
     "output_type": "execute_result"
    }
   ],
   "source": [
    "df.isnull().sum()"
   ]
  },
  {
   "cell_type": "code",
   "execution_count": 4,
   "metadata": {},
   "outputs": [
    {
     "data": {
      "text/html": [
       "<div>\n",
       "<style scoped>\n",
       "    .dataframe tbody tr th:only-of-type {\n",
       "        vertical-align: middle;\n",
       "    }\n",
       "\n",
       "    .dataframe tbody tr th {\n",
       "        vertical-align: top;\n",
       "    }\n",
       "\n",
       "    .dataframe thead th {\n",
       "        text-align: right;\n",
       "    }\n",
       "</style>\n",
       "<table border=\"1\" class=\"dataframe\">\n",
       "  <thead>\n",
       "    <tr style=\"text-align: right;\">\n",
       "      <th></th>\n",
       "      <th>Alcohol</th>\n",
       "      <th>M_acid</th>\n",
       "      <th>Ash</th>\n",
       "      <th>Alc_ash</th>\n",
       "      <th>Mag</th>\n",
       "      <th>phenols</th>\n",
       "      <th>Flavanoids</th>\n",
       "      <th>Non_phenols</th>\n",
       "      <th>Proanthocyanins</th>\n",
       "      <th>C_ntensity</th>\n",
       "      <th>Hue</th>\n",
       "      <th>diluted_wines</th>\n",
       "      <th>Proline</th>\n",
       "    </tr>\n",
       "    <tr>\n",
       "      <th>Class</th>\n",
       "      <th></th>\n",
       "      <th></th>\n",
       "      <th></th>\n",
       "      <th></th>\n",
       "      <th></th>\n",
       "      <th></th>\n",
       "      <th></th>\n",
       "      <th></th>\n",
       "      <th></th>\n",
       "      <th></th>\n",
       "      <th></th>\n",
       "      <th></th>\n",
       "      <th></th>\n",
       "    </tr>\n",
       "  </thead>\n",
       "  <tbody>\n",
       "    <tr>\n",
       "      <th>1</th>\n",
       "      <td>13.744746</td>\n",
       "      <td>2.010678</td>\n",
       "      <td>2.455593</td>\n",
       "      <td>17.037288</td>\n",
       "      <td>106.338983</td>\n",
       "      <td>2.840169</td>\n",
       "      <td>2.982373</td>\n",
       "      <td>0.290000</td>\n",
       "      <td>1.899322</td>\n",
       "      <td>5.528305</td>\n",
       "      <td>1.062034</td>\n",
       "      <td>3.157797</td>\n",
       "      <td>1115.711864</td>\n",
       "    </tr>\n",
       "    <tr>\n",
       "      <th>2</th>\n",
       "      <td>12.278732</td>\n",
       "      <td>1.932676</td>\n",
       "      <td>2.244789</td>\n",
       "      <td>20.238028</td>\n",
       "      <td>94.549296</td>\n",
       "      <td>2.258873</td>\n",
       "      <td>2.080845</td>\n",
       "      <td>0.363662</td>\n",
       "      <td>1.630282</td>\n",
       "      <td>3.086620</td>\n",
       "      <td>1.056282</td>\n",
       "      <td>2.785352</td>\n",
       "      <td>519.507042</td>\n",
       "    </tr>\n",
       "    <tr>\n",
       "      <th>3</th>\n",
       "      <td>13.153750</td>\n",
       "      <td>3.333750</td>\n",
       "      <td>2.437083</td>\n",
       "      <td>21.416667</td>\n",
       "      <td>99.312500</td>\n",
       "      <td>1.678750</td>\n",
       "      <td>0.781458</td>\n",
       "      <td>0.447500</td>\n",
       "      <td>1.153542</td>\n",
       "      <td>7.396250</td>\n",
       "      <td>0.682708</td>\n",
       "      <td>1.683542</td>\n",
       "      <td>629.895833</td>\n",
       "    </tr>\n",
       "  </tbody>\n",
       "</table>\n",
       "</div>"
      ],
      "text/plain": [
       "         Alcohol    M_acid       Ash    Alc_ash         Mag   phenols  \\\n",
       "Class                                                                   \n",
       "1      13.744746  2.010678  2.455593  17.037288  106.338983  2.840169   \n",
       "2      12.278732  1.932676  2.244789  20.238028   94.549296  2.258873   \n",
       "3      13.153750  3.333750  2.437083  21.416667   99.312500  1.678750   \n",
       "\n",
       "       Flavanoids  Non_phenols  Proanthocyanins  C_ntensity       Hue  \\\n",
       "Class                                                                   \n",
       "1        2.982373     0.290000         1.899322    5.528305  1.062034   \n",
       "2        2.080845     0.363662         1.630282    3.086620  1.056282   \n",
       "3        0.781458     0.447500         1.153542    7.396250  0.682708   \n",
       "\n",
       "       diluted_wines      Proline  \n",
       "Class                              \n",
       "1           3.157797  1115.711864  \n",
       "2           2.785352   519.507042  \n",
       "3           1.683542   629.895833  "
      ]
     },
     "execution_count": 4,
     "metadata": {},
     "output_type": "execute_result"
    }
   ],
   "source": [
    "df.groupby('Class').mean()"
   ]
  },
  {
   "cell_type": "code",
   "execution_count": 5,
   "metadata": {},
   "outputs": [
    {
     "data": {
      "text/plain": [
       "Text(0.5, 1.0, 'Alcohol vs Class')"
      ]
     },
     "execution_count": 5,
     "metadata": {},
     "output_type": "execute_result"
    },
    {
     "data": {
      "image/png": "[encoded data removed]",
      "text/plain": [
       "<Figure size 720x432 with 1 Axes>"
      ]
     },
     "metadata": {
      "needs_background": "light"
     },
     "output_type": "display_data"
    }
   ],
   "source": [
    "plt.figure(figsize=(10,6))\n",
    "sns.barplot(x='Class',y='Alcohol',data=df)\n",
    "plt.title('Alcohol vs Class')"
   ]
  },
  {
   "cell_type": "code",
   "execution_count": 6,
   "metadata": {},
   "outputs": [
    {
     "data": {
      "text/plain": [
       "Text(0.5, 1.0, 'Proline vs Class')"
      ]
     },
     "execution_count": 6,
     "metadata": {},
     "output_type": "execute_result"
    },
    {
     "data": {
      "image/png": "[encoded data removed]",
      "text/plain": [
       "<Figure size 720x432 with 1 Axes>"
      ]
     },
     "metadata": {
      "needs_background": "light"
     },
     "output_type": "display_data"
    }
   ],
   "source": [
    "plt.figure(figsize=(10,6))\n",
    "sns.barplot(x='Class',y='Proline',data=df)\n",
    "plt.title('Proline vs Class')"
   ]
  },
  {
   "cell_type": "code",
   "execution_count": 9,
   "metadata": {},
   "outputs": [
    {
     "data": {
      "text/plain": [
       "<matplotlib.axes._subplots.AxesSubplot at 0x165b794f550>"
      ]
     },
     "execution_count": 9,
     "metadata": {},
     "output_type": "execute_result"
    },
    {
     "data": {
      "image/png": "[encoded data removed]",
      "text/plain": [
       "<Figure size 1152x432 with 1 Axes>"
      ]
     },
     "metadata": {
      "needs_background": "light"
     },
     "output_type": "display_data"
    }
   ],
   "source": [
    "plt.figure(figsize=(16,6))\n",
    "sns.scatterplot(x='Alcohol',y='Proline',data=df,size='Alcohol')"
   ]
  },
  {
   "cell_type": "markdown",
   "metadata": {},
   "source": [
    "# Feature Selection"
   ]
  },
  {
   "cell_type": "code",
   "execution_count": 10,
   "metadata": {},
   "outputs": [
    {
     "data": {
      "text/plain": [
       "Index(['Class', 'Alcohol', 'M_acid', 'Ash', 'Alc_ash', 'Mag', 'phenols',\n",
       "       'Flavanoids', 'Non_phenols', 'Proanthocyanins', 'C_ntensity', 'Hue',\n",
       "       'diluted_wines', 'Proline'],\n",
       "      dtype='object')"
      ]
     },
     "execution_count": 10,
     "metadata": {},
     "output_type": "execute_result"
    }
   ],
   "source": [
    "df.columns"
   ]
  },
  {
   "cell_type": "code",
   "execution_count": 11,
   "metadata": {},
   "outputs": [
    {
     "data": {
      "text/html": [
       "<div>\n",
       "<style scoped>\n",
       "    .dataframe tbody tr th:only-of-type {\n",
       "        vertical-align: middle;\n",
       "    }\n",
       "\n",
       "    .dataframe tbody tr th {\n",
       "        vertical-align: top;\n",
       "    }\n",
       "\n",
       "    .dataframe thead th {\n",
       "        text-align: right;\n",
       "    }\n",
       "</style>\n",
       "<table border=\"1\" class=\"dataframe\">\n",
       "  <thead>\n",
       "    <tr style=\"text-align: right;\">\n",
       "      <th></th>\n",
       "      <th>Alcohol</th>\n",
       "      <th>M_acid</th>\n",
       "      <th>Ash</th>\n",
       "      <th>Alc_ash</th>\n",
       "      <th>Mag</th>\n",
       "      <th>phenols</th>\n",
       "      <th>Flavanoids</th>\n",
       "      <th>Non_phenols</th>\n",
       "      <th>Proanthocyanins</th>\n",
       "      <th>C_ntensity</th>\n",
       "      <th>Hue</th>\n",
       "      <th>diluted_wines</th>\n",
       "      <th>Proline</th>\n",
       "    </tr>\n",
       "  </thead>\n",
       "  <tbody>\n",
       "    <tr>\n",
       "      <th>0</th>\n",
       "      <td>14.23</td>\n",
       "      <td>1.71</td>\n",
       "      <td>2.43</td>\n",
       "      <td>15.6</td>\n",
       "      <td>127</td>\n",
       "      <td>2.80</td>\n",
       "      <td>3.06</td>\n",
       "      <td>0.28</td>\n",
       "      <td>2.29</td>\n",
       "      <td>5.64</td>\n",
       "      <td>1.04</td>\n",
       "      <td>3.92</td>\n",
       "      <td>1065</td>\n",
       "    </tr>\n",
       "    <tr>\n",
       "      <th>1</th>\n",
       "      <td>13.20</td>\n",
       "      <td>1.78</td>\n",
       "      <td>2.14</td>\n",
       "      <td>11.2</td>\n",
       "      <td>100</td>\n",
       "      <td>2.65</td>\n",
       "      <td>2.76</td>\n",
       "      <td>0.26</td>\n",
       "      <td>1.28</td>\n",
       "      <td>4.38</td>\n",
       "      <td>1.05</td>\n",
       "      <td>3.40</td>\n",
       "      <td>1050</td>\n",
       "    </tr>\n",
       "    <tr>\n",
       "      <th>2</th>\n",
       "      <td>13.16</td>\n",
       "      <td>2.36</td>\n",
       "      <td>2.67</td>\n",
       "      <td>18.6</td>\n",
       "      <td>101</td>\n",
       "      <td>2.80</td>\n",
       "      <td>3.24</td>\n",
       "      <td>0.30</td>\n",
       "      <td>2.81</td>\n",
       "      <td>5.68</td>\n",
       "      <td>1.03</td>\n",
       "      <td>3.17</td>\n",
       "      <td>1185</td>\n",
       "    </tr>\n",
       "    <tr>\n",
       "      <th>3</th>\n",
       "      <td>14.37</td>\n",
       "      <td>1.95</td>\n",
       "      <td>2.50</td>\n",
       "      <td>16.8</td>\n",
       "      <td>113</td>\n",
       "      <td>3.85</td>\n",
       "      <td>3.49</td>\n",
       "      <td>0.24</td>\n",
       "      <td>2.18</td>\n",
       "      <td>7.80</td>\n",
       "      <td>0.86</td>\n",
       "      <td>3.45</td>\n",
       "      <td>1480</td>\n",
       "    </tr>\n",
       "    <tr>\n",
       "      <th>4</th>\n",
       "      <td>13.24</td>\n",
       "      <td>2.59</td>\n",
       "      <td>2.87</td>\n",
       "      <td>21.0</td>\n",
       "      <td>118</td>\n",
       "      <td>2.80</td>\n",
       "      <td>2.69</td>\n",
       "      <td>0.39</td>\n",
       "      <td>1.82</td>\n",
       "      <td>4.32</td>\n",
       "      <td>1.04</td>\n",
       "      <td>2.93</td>\n",
       "      <td>735</td>\n",
       "    </tr>\n",
       "    <tr>\n",
       "      <th>...</th>\n",
       "      <td>...</td>\n",
       "      <td>...</td>\n",
       "      <td>...</td>\n",
       "      <td>...</td>\n",
       "      <td>...</td>\n",
       "      <td>...</td>\n",
       "      <td>...</td>\n",
       "      <td>...</td>\n",
       "      <td>...</td>\n",
       "      <td>...</td>\n",
       "      <td>...</td>\n",
       "      <td>...</td>\n",
       "      <td>...</td>\n",
       "    </tr>\n",
       "    <tr>\n",
       "      <th>173</th>\n",
       "      <td>13.71</td>\n",
       "      <td>5.65</td>\n",
       "      <td>2.45</td>\n",
       "      <td>20.5</td>\n",
       "      <td>95</td>\n",
       "      <td>1.68</td>\n",
       "      <td>0.61</td>\n",
       "      <td>0.52</td>\n",
       "      <td>1.06</td>\n",
       "      <td>7.70</td>\n",
       "      <td>0.64</td>\n",
       "      <td>1.74</td>\n",
       "      <td>740</td>\n",
       "    </tr>\n",
       "    <tr>\n",
       "      <th>174</th>\n",
       "      <td>13.40</td>\n",
       "      <td>3.91</td>\n",
       "      <td>2.48</td>\n",
       "      <td>23.0</td>\n",
       "      <td>102</td>\n",
       "      <td>1.80</td>\n",
       "      <td>0.75</td>\n",
       "      <td>0.43</td>\n",
       "      <td>1.41</td>\n",
       "      <td>7.30</td>\n",
       "      <td>0.70</td>\n",
       "      <td>1.56</td>\n",
       "      <td>750</td>\n",
       "    </tr>\n",
       "    <tr>\n",
       "      <th>175</th>\n",
       "      <td>13.27</td>\n",
       "      <td>4.28</td>\n",
       "      <td>2.26</td>\n",
       "      <td>20.0</td>\n",
       "      <td>120</td>\n",
       "      <td>1.59</td>\n",
       "      <td>0.69</td>\n",
       "      <td>0.43</td>\n",
       "      <td>1.35</td>\n",
       "      <td>10.20</td>\n",
       "      <td>0.59</td>\n",
       "      <td>1.56</td>\n",
       "      <td>835</td>\n",
       "    </tr>\n",
       "    <tr>\n",
       "      <th>176</th>\n",
       "      <td>13.17</td>\n",
       "      <td>2.59</td>\n",
       "      <td>2.37</td>\n",
       "      <td>20.0</td>\n",
       "      <td>120</td>\n",
       "      <td>1.65</td>\n",
       "      <td>0.68</td>\n",
       "      <td>0.53</td>\n",
       "      <td>1.46</td>\n",
       "      <td>9.30</td>\n",
       "      <td>0.60</td>\n",
       "      <td>1.62</td>\n",
       "      <td>840</td>\n",
       "    </tr>\n",
       "    <tr>\n",
       "      <th>177</th>\n",
       "      <td>14.13</td>\n",
       "      <td>4.10</td>\n",
       "      <td>2.74</td>\n",
       "      <td>24.5</td>\n",
       "      <td>96</td>\n",
       "      <td>2.05</td>\n",
       "      <td>0.76</td>\n",
       "      <td>0.56</td>\n",
       "      <td>1.35</td>\n",
       "      <td>9.20</td>\n",
       "      <td>0.61</td>\n",
       "      <td>1.60</td>\n",
       "      <td>560</td>\n",
       "    </tr>\n",
       "  </tbody>\n",
       "</table>\n",
       "<p>178 rows × 13 columns</p>\n",
       "</div>"
      ],
      "text/plain": [
       "     Alcohol  M_acid   Ash  Alc_ash  Mag  phenols  Flavanoids  Non_phenols  \\\n",
       "0      14.23    1.71  2.43     15.6  127     2.80        3.06         0.28   \n",
       "1      13.20    1.78  2.14     11.2  100     2.65        2.76         0.26   \n",
       "2      13.16    2.36  2.67     18.6  101     2.80        3.24         0.30   \n",
       "3      14.37    1.95  2.50     16.8  113     3.85        3.49         0.24   \n",
       "4      13.24    2.59  2.87     21.0  118     2.80        2.69         0.39   \n",
       "..       ...     ...   ...      ...  ...      ...         ...          ...   \n",
       "173    13.71    5.65  2.45     20.5   95     1.68        0.61         0.52   \n",
       "174    13.40    3.91  2.48     23.0  102     1.80        0.75         0.43   \n",
       "175    13.27    4.28  2.26     20.0  120     1.59        0.69         0.43   \n",
       "176    13.17    2.59  2.37     20.0  120     1.65        0.68         0.53   \n",
       "177    14.13    4.10  2.74     24.5   96     2.05        0.76         0.56   \n",
       "\n",
       "     Proanthocyanins  C_ntensity   Hue  diluted_wines  Proline  \n",
       "0               2.29        5.64  1.04           3.92     1065  \n",
       "1               1.28        4.38  1.05           3.40     1050  \n",
       "2               2.81        5.68  1.03           3.17     1185  \n",
       "3               2.18        7.80  0.86           3.45     1480  \n",
       "4               1.82        4.32  1.04           2.93      735  \n",
       "..               ...         ...   ...            ...      ...  \n",
       "173             1.06        7.70  0.64           1.74      740  \n",
       "174             1.41        7.30  0.70           1.56      750  \n",
       "175             1.35       10.20  0.59           1.56      835  \n",
       "176             1.46        9.30  0.60           1.62      840  \n",
       "177             1.35        9.20  0.61           1.60      560  \n",
       "\n",
       "[178 rows x 13 columns]"
      ]
     },
     "execution_count": 11,
     "metadata": {},
     "output_type": "execute_result"
    }
   ],
   "source": [
    "X=df[df.columns[1:]]\n",
    "X"
   ]
  },
  {
   "cell_type": "code",
   "execution_count": 12,
   "metadata": {},
   "outputs": [
    {
     "data": {
      "text/plain": [
       "0      1\n",
       "1      1\n",
       "2      1\n",
       "3      1\n",
       "4      1\n",
       "      ..\n",
       "173    3\n",
       "174    3\n",
       "175    3\n",
       "176    3\n",
       "177    3\n",
       "Name: Class, Length: 178, dtype: int64"
      ]
     },
     "execution_count": 12,
     "metadata": {},
     "output_type": "execute_result"
    }
   ],
   "source": [
    "y=df['Class']\n",
    "y"
   ]
  },
  {
   "cell_type": "markdown",
   "metadata": {},
   "source": [
    "# Normalizing the data"
   ]
  },
  {
   "cell_type": "code",
   "execution_count": 13,
   "metadata": {},
   "outputs": [
    {
     "data": {
      "text/plain": [
       "array([[ 1.51861254, -0.5622498 ,  0.23205254, ...,  0.36217728,\n",
       "         1.84791957,  1.01300893],\n",
       "       [ 0.24628963, -0.49941338, -0.82799632, ...,  0.40605066,\n",
       "         1.1134493 ,  0.96524152],\n",
       "       [ 0.19687903,  0.02123125,  1.10933436, ...,  0.31830389,\n",
       "         0.78858745,  1.39514818],\n",
       "       ...,\n",
       "       [ 0.33275817,  1.74474449, -0.38935541, ..., -1.61212515,\n",
       "        -1.48544548,  0.28057537],\n",
       "       [ 0.20923168,  0.22769377,  0.01273209, ..., -1.56825176,\n",
       "        -1.40069891,  0.29649784],\n",
       "       [ 1.39508604,  1.58316512,  1.36520822, ..., -1.52437837,\n",
       "        -1.42894777, -0.59516041]])"
      ]
     },
     "execution_count": 13,
     "metadata": {},
     "output_type": "execute_result"
    }
   ],
   "source": [
    "from sklearn.preprocessing import StandardScaler\n",
    "st=StandardScaler()\n",
    "X=st.fit_transform(X)\n",
    "X"
   ]
  },
  {
   "cell_type": "code",
   "execution_count": 14,
   "metadata": {},
   "outputs": [
    {
     "name": "stdout",
     "output_type": "stream",
     "text": [
      "Train Shape:(142, 13)\n",
      "Train Shape:(142,)\n"
     ]
    }
   ],
   "source": [
    "from sklearn.model_selection import train_test_split\n",
    "x_train,x_test,y_train,y_test=train_test_split(X,y,test_size=0.2,random_state=43)\n",
    "print('Train Shape:{}'.format(x_train.shape))\n",
    "print('Train Shape:{}'.format(y_train.shape))"
   ]
  },
  {
   "cell_type": "code",
   "execution_count": 16,
   "metadata": {},
   "outputs": [
    {
     "name": "stdout",
     "output_type": "stream",
     "text": [
      "\n",
      "1\n",
      "Score:0.92\n",
      "Accuracy Score:0.92\n",
      "F1 Score:0.91\n",
      "\n",
      "2\n",
      "Score:0.92\n",
      "Accuracy Score:0.92\n",
      "F1 Score:0.92\n",
      "\n",
      "3\n",
      "Score:0.97\n",
      "Accuracy Score:0.97\n",
      "F1 Score:0.97\n",
      "\n",
      "4\n",
      "Score:0.92\n",
      "Accuracy Score:0.92\n",
      "F1 Score:0.92\n",
      "\n",
      "5\n",
      "Score:0.92\n",
      "Accuracy Score:0.92\n",
      "F1 Score:0.91\n",
      "\n",
      "6\n",
      "Score:0.86\n",
      "Accuracy Score:0.86\n",
      "F1 Score:0.85\n",
      "\n",
      "7\n",
      "Score:0.92\n",
      "Accuracy Score:0.92\n",
      "F1 Score:0.92\n",
      "\n",
      "8\n",
      "Score:0.92\n",
      "Accuracy Score:0.92\n",
      "F1 Score:0.92\n",
      "\n",
      "9\n",
      "Score:0.97\n",
      "Accuracy Score:0.97\n",
      "F1 Score:0.97\n",
      "\n",
      "10\n",
      "Score:0.92\n",
      "Accuracy Score:0.92\n",
      "F1 Score:0.92\n",
      "\n",
      "11\n",
      "Score:0.94\n",
      "Accuracy Score:0.94\n",
      "F1 Score:0.94\n"
     ]
    }
   ],
   "source": [
    "from sklearn.neighbors import KNeighborsClassifier\n",
    "from sklearn.metrics import accuracy_score,confusion_matrix,f1_score\n",
    "k_value=[]\n",
    "acc=[]\n",
    "for k in range(1,12):\n",
    "    knn=KNeighborsClassifier(n_neighbors=k,)\n",
    "    knn.fit(x_train,y_train)\n",
    "    y_pr=knn.predict(x_test)\n",
    "    k_value.append(k)\n",
    "    acc.append(accuracy_score(y_test,y_pr))\n",
    "    print()\n",
    "    print(k)\n",
    "    print('Score:%.2f'%knn.score(x_test,y_test))\n",
    "    print('Accuracy Score:%.2f'%accuracy_score(y_test,y_pr))\n",
    "    print('F1 Score:%.2f'%f1_score(y_test,y_pr,average='weighted'))"
   ]
  },
  {
   "cell_type": "code",
   "execution_count": 17,
   "metadata": {},
   "outputs": [
    {
     "data": {
      "text/plain": [
       "<matplotlib.axes._subplots.AxesSubplot at 0x165b9ef4490>"
      ]
     },
     "execution_count": 17,
     "metadata": {},
     "output_type": "execute_result"
    },
    {
     "data": {
      "image/png": "[encoded data removed]",
      "text/plain": [
       "<Figure size 1152x432 with 1 Axes>"
      ]
     },
     "metadata": {
      "needs_background": "light"
     },
     "output_type": "display_data"
    }
   ],
   "source": [
    "plt.figure(figsize=(16,6))\n",
    "sns.lineplot(x=k_value,y=acc)"
   ]
  },
  {
   "cell_type": "markdown",
   "metadata": {},
   "source": [
    "### We can see at k=3 and k=9 accuracy is maximum"
   ]
  },
  {
   "cell_type": "code",
   "execution_count": 30,
   "metadata": {},
   "outputs": [],
   "source": [
    "algo_name=[]\n",
    "accuracy=[]\n",
    "fscore=[]"
   ]
  },
  {
   "cell_type": "code",
   "execution_count": 31,
   "metadata": {},
   "outputs": [
    {
     "name": "stdout",
     "output_type": "stream",
     "text": [
      "\n",
      "Score:0.97\n",
      "Accuracy Score:0.97\n",
      "F1 Score:0.97\n"
     ]
    },
    {
     "data": {
      "text/plain": [
       "<matplotlib.axes._subplots.AxesSubplot at 0x165bb694e80>"
      ]
     },
     "execution_count": 31,
     "metadata": {},
     "output_type": "execute_result"
    },
    {
     "data": {
      "image/png": "[encoded data removed]",
      "text/plain": [
       "<Figure size 1152x432 with 2 Axes>"
      ]
     },
     "metadata": {
      "needs_background": "light"
     },
     "output_type": "display_data"
    }
   ],
   "source": [
    "from sklearn.metrics import log_loss,jaccard_score\n",
    "knn=KNeighborsClassifier(n_neighbors=3)\n",
    "knn.fit(x_train,y_train)\n",
    "y_pr=knn.predict(x_test)\n",
    "cnm=confusion_matrix(y_test,y_pr)\n",
    "y_pr[0:5]\n",
    "ac=accuracy_score(y_test,y_pr)\n",
    "f1=f1_score(y_test,y_pr,average='weighted')\n",
    "\n",
    "print()\n",
    "print('Score:%.2f'%knn.score(x_test,y_test))\n",
    "print('Accuracy Score:%.2f'%ac)\n",
    "print('F1 Score:%.2f'%f1)\n",
    "algo_name.append('KNeighborsClassifier')\n",
    "accuracy.append(ac)\n",
    "fscore.append(f1)\n",
    "\n",
    "\n",
    "plt.figure(figsize=(16,6))\n",
    "sns.heatmap(cnm,annot=True,xticklabels=['1','2','3'],yticklabels=['1','2','3'])"
   ]
  },
  {
   "cell_type": "markdown",
   "metadata": {},
   "source": [
    "#### As we can see both accuracy score and f1 score is 0.97 which is preety good"
   ]
  },
  {
   "cell_type": "markdown",
   "metadata": {},
   "source": [
    "# Checking other Classifiers "
   ]
  },
  {
   "cell_type": "markdown",
   "metadata": {},
   "source": [
    "### <li>Logistic Regression</li>"
   ]
  },
  {
   "cell_type": "code",
   "execution_count": 32,
   "metadata": {},
   "outputs": [
    {
     "name": "stdout",
     "output_type": "stream",
     "text": [
      "\n",
      "Score:0.97\n",
      "Accuracy Score:0.94\n",
      "F1 Score:0.94\n"
     ]
    },
    {
     "data": {
      "text/plain": [
       "<matplotlib.axes._subplots.AxesSubplot at 0x165bb60bb20>"
      ]
     },
     "execution_count": 32,
     "metadata": {},
     "output_type": "execute_result"
    },
    {
     "data": {
      "image/png": "[encoded data removed]",
      "text/plain": [
       "<Figure size 1152x432 with 2 Axes>"
      ]
     },
     "metadata": {
      "needs_background": "light"
     },
     "output_type": "display_data"
    }
   ],
   "source": [
    "from sklearn.linear_model import LogisticRegression\n",
    "lr=LogisticRegression()\n",
    "lr.fit(x_train,y_train)\n",
    "y_lr_pr=lr.predict(x_test)\n",
    "cn_lr=confusion_matrix(y_test,y_lr_pr)\n",
    "\n",
    "ac=accuracy_score(y_test,y_lr_pr)\n",
    "f1=f1_score(y_test,y_lr_pr,average='weighted')\n",
    "\n",
    "print()\n",
    "print('Score:%.2f'%knn.score(x_test,y_test))\n",
    "print('Accuracy Score:%.2f'%accuracy_score(y_test,y_lr_pr))\n",
    "print('F1 Score:%.2f'%f1_score(y_test,y_lr_pr,average='weighted'))\n",
    "algo_name.append('LogisticRegression')\n",
    "accuracy.append(ac)\n",
    "fscore.append(f1)\n",
    "\n",
    "plt.figure(figsize=(16,6))\n",
    "sns.heatmap(cn_lr,annot=True,xticklabels=['1','2','3'],yticklabels=['1','2','3'])"
   ]
  },
  {
   "cell_type": "markdown",
   "metadata": {},
   "source": [
    "#### Here both accuracy and f1 score goes down so it is clearly not a good model compare to KNN model"
   ]
  },
  {
   "cell_type": "markdown",
   "metadata": {},
   "source": [
    "## Decision Tree Classifier"
   ]
  },
  {
   "cell_type": "code",
   "execution_count": 33,
   "metadata": {},
   "outputs": [
    {
     "name": "stdout",
     "output_type": "stream",
     "text": [
      "\n",
      "Score:0.97\n",
      "Accuracy Score:0.97\n",
      "F1 Score:0.97\n"
     ]
    },
    {
     "data": {
      "text/plain": [
       "<matplotlib.axes._subplots.AxesSubplot at 0x165bba5d580>"
      ]
     },
     "execution_count": 33,
     "metadata": {},
     "output_type": "execute_result"
    },
    {
     "data": {
      "image/png": "[encoded data removed]",
      "text/plain": [
       "<Figure size 1152x432 with 2 Axes>"
      ]
     },
     "metadata": {
      "needs_background": "light"
     },
     "output_type": "display_data"
    }
   ],
   "source": [
    "from sklearn.tree import DecisionTreeClassifier\n",
    "dt=DecisionTreeClassifier(criterion=\"entropy\", max_depth = 4)\n",
    "dt.fit(x_train,y_train)\n",
    "y_dt_pr=dt.predict(x_test)\n",
    "cn_dt=confusion_matrix(y_test,y_dt_pr)\n",
    "\n",
    "ac=accuracy_score(y_test,y_dt_pr)\n",
    "f1=f1_score(y_test,y_dt_pr,average='weighted')\n",
    "\n",
    "print()\n",
    "print('Score:%.2f'%knn.score(x_test,y_test))\n",
    "print('Accuracy Score:%.2f'%accuracy_score(y_test,y_dt_pr))\n",
    "print('F1 Score:%.2f'%f1_score(y_test,y_dt_pr,average='weighted'))\n",
    "algo_name.append('DecisionTreeClassifier')\n",
    "accuracy.append(ac)\n",
    "fscore.append(f1)\n",
    "\n",
    "plt.figure(figsize=(16,6))\n",
    "sns.heatmap(cn_dt,annot=True,xticklabels=['1','2','3'],yticklabels=['1','2','3'])"
   ]
  },
  {
   "cell_type": "markdown",
   "metadata": {},
   "source": [
    "#### Both Accuracy and F1 score remain unchanged"
   ]
  },
  {
   "cell_type": "markdown",
   "metadata": {},
   "source": [
    "## Support Vactor Machine"
   ]
  },
  {
   "cell_type": "code",
   "execution_count": 34,
   "metadata": {},
   "outputs": [
    {
     "name": "stdout",
     "output_type": "stream",
     "text": [
      "\n",
      "Score:0.97\n",
      "Accuracy Score:0.97\n",
      "F1 Score:0.97\n"
     ]
    },
    {
     "data": {
      "text/plain": [
       "<matplotlib.axes._subplots.AxesSubplot at 0x165bbd5dd30>"
      ]
     },
     "execution_count": 34,
     "metadata": {},
     "output_type": "execute_result"
    },
    {
     "data": {
      "image/png": "[encoded data removed]",
      "text/plain": [
       "<Figure size 1152x432 with 2 Axes>"
      ]
     },
     "metadata": {
      "needs_background": "light"
     },
     "output_type": "display_data"
    }
   ],
   "source": [
    "from sklearn.svm import SVC\n",
    "sv=SVC(kernel='rbf')\n",
    "sv.fit(x_train,y_train)\n",
    "y_svm_pr=sv.predict(x_test)\n",
    "cn_svm=confusion_matrix(y_test,y_svm_pr)\n",
    "\n",
    "ac=accuracy_score(y_test,y_svm_pr)\n",
    "f1=f1_score(y_test,y_svm_pr,average='weighted')\n",
    "\n",
    "print()\n",
    "print('Score:%.2f'%knn.score(x_test,y_test))\n",
    "print('Accuracy Score:%.2f'%accuracy_score(y_test,y_svm_pr))\n",
    "print('F1 Score:%.2f'%f1_score(y_test,y_svm_pr,average='weighted'))\n",
    "algo_name.append('Support Vector Machine')\n",
    "accuracy.append(ac)\n",
    "fscore.append(f1)\n",
    "\n",
    "\n",
    "plt.figure(figsize=(16,6))\n",
    "sns.heatmap(cn_svm,annot=True,xticklabels=['1','2','3'],yticklabels=['1','2','3'])"
   ]
  },
  {
   "cell_type": "markdown",
   "metadata": {},
   "source": [
    "#### Again Both accuracy and score remain unchanged but this time it predicted more no of class 2 then 3."
   ]
  },
  {
   "cell_type": "code",
   "execution_count": 35,
   "metadata": {},
   "outputs": [
    {
     "name": "stdout",
     "output_type": "stream",
     "text": [
      "\n",
      "Score:0.89\n",
      "Accuracy Score:0.89\n",
      "F1 Score:0.89\n"
     ]
    },
    {
     "data": {
      "text/plain": [
       "<matplotlib.axes._subplots.AxesSubplot at 0x165bbdb0910>"
      ]
     },
     "execution_count": 35,
     "metadata": {},
     "output_type": "execute_result"
    },
    {
     "data": {
      "image/png": "[encoded data removed]",
      "text/plain": [
       "<Figure size 1152x432 with 2 Axes>"
      ]
     },
     "metadata": {
      "needs_background": "light"
     },
     "output_type": "display_data"
    }
   ],
   "source": [
    "from sklearn.ensemble import AdaBoostClassifier\n",
    "abc=AdaBoostClassifier()\n",
    "abc.fit(x_train,y_train)\n",
    "y_abc=abc.predict(x_test)\n",
    "\n",
    "abc_svm=confusion_matrix(y_test,y_abc)\n",
    "\n",
    "ac=accuracy_score(y_test,y_abc)\n",
    "f1=f1_score(y_test,y_abc,average='weighted')\n",
    "\n",
    "print()\n",
    "print('Score:%.2f'%abc.score(x_test,y_test))\n",
    "print('Accuracy Score:%.2f'%accuracy_score(y_test,y_abc))\n",
    "print('F1 Score:%.2f'%f1_score(y_test,y_abc,average='weighted'))\n",
    "algo_name.append('AdaBoostClassifier')\n",
    "accuracy.append(ac)\n",
    "fscore.append(f1)\n",
    "\n",
    "plt.figure(figsize=(16,6))\n",
    "sns.heatmap(abc_svm,annot=True,xticklabels=['1','2','3'],yticklabels=['1','2','3'])"
   ]
  },
  {
   "cell_type": "code",
   "execution_count": 37,
   "metadata": {},
   "outputs": [
    {
     "data": {
      "text/html": [
       "<div>\n",
       "<style scoped>\n",
       "    .dataframe tbody tr th:only-of-type {\n",
       "        vertical-align: middle;\n",
       "    }\n",
       "\n",
       "    .dataframe tbody tr th {\n",
       "        vertical-align: top;\n",
       "    }\n",
       "\n",
       "    .dataframe thead th {\n",
       "        text-align: right;\n",
       "    }\n",
       "</style>\n",
       "<table border=\"1\" class=\"dataframe\">\n",
       "  <thead>\n",
       "    <tr style=\"text-align: right;\">\n",
       "      <th></th>\n",
       "      <th>Algorithm Name</th>\n",
       "      <th>F1 Score</th>\n",
       "      <th>Accuracy Score</th>\n",
       "    </tr>\n",
       "  </thead>\n",
       "  <tbody>\n",
       "    <tr>\n",
       "      <th>0</th>\n",
       "      <td>KNeighborsClassifier</td>\n",
       "      <td>0.972187</td>\n",
       "      <td>0.972222</td>\n",
       "    </tr>\n",
       "    <tr>\n",
       "      <th>1</th>\n",
       "      <td>LogisticRegression</td>\n",
       "      <td>0.944444</td>\n",
       "      <td>0.944444</td>\n",
       "    </tr>\n",
       "    <tr>\n",
       "      <th>2</th>\n",
       "      <td>DecisionTreeClassifier</td>\n",
       "      <td>0.972187</td>\n",
       "      <td>0.972222</td>\n",
       "    </tr>\n",
       "    <tr>\n",
       "      <th>3</th>\n",
       "      <td>Support Vector Machine</td>\n",
       "      <td>0.971775</td>\n",
       "      <td>0.972222</td>\n",
       "    </tr>\n",
       "    <tr>\n",
       "      <th>4</th>\n",
       "      <td>AdaBoostClassifier</td>\n",
       "      <td>0.888319</td>\n",
       "      <td>0.888889</td>\n",
       "    </tr>\n",
       "  </tbody>\n",
       "</table>\n",
       "</div>"
      ],
      "text/plain": [
       "           Algorithm Name  F1 Score  Accuracy Score\n",
       "0    KNeighborsClassifier  0.972187        0.972222\n",
       "1      LogisticRegression  0.944444        0.944444\n",
       "2  DecisionTreeClassifier  0.972187        0.972222\n",
       "3  Support Vector Machine  0.971775        0.972222\n",
       "4      AdaBoostClassifier  0.888319        0.888889"
      ]
     },
     "execution_count": 37,
     "metadata": {},
     "output_type": "execute_result"
    }
   ],
   "source": [
    "df_score_table=pd.concat([pd.DataFrame(algo_name),pd.DataFrame(fscore),pd.DataFrame(accuracy)],axis=1)\n",
    "df_score_table.columns=['Algorithm Name','F1 Score','Accuracy Score']\n",
    "df_score_table"
   ]
  },
  {
   "cell_type": "markdown",
   "metadata": {},
   "source": [
    "<p> Accuracy goes down when using AdaBoostClassifier,clearly not a good model </p>"
   ]
  },
  {
   "cell_type": "code",
   "execution_count": null,
   "metadata": {},
   "outputs": [],
   "source": [
    "# from sklearn.svm import SVC\n",
    "# kernal=['rbf','sigmoid','poly','linear']\n",
    "# for k in kernal:\n",
    "#     sv=SVC(kernel=k)\n",
    "#     sv.fit(x_train,y_train)\n",
    "#     y_svm_pr=sv.predict(x_test)\n",
    "# #     cn_svm=confusion_matrix(y_test,y_svm_pr)\n",
    "\n",
    "#     print()\n",
    "#     print(k)\n",
    "#     print('Score:%.2f'%knn.score(x_test,y_test))\n",
    "#     print('Accuracy Score:%.2f'%accuracy_score(y_test,y_svm_pr))\n",
    "#     print('F1 Score:%.2f'%f1_score(y_test,y_svm_pr,average='weighted'))\n",
    "\n",
    "# plt.figure(figsize=(16,6))\n",
    "# sns.heatmap(cn_svm,annot=True,xticklabels=['1','2','3'],yticklabels=['1','2','3'])"
   ]
  },
  {
   "cell_type": "markdown",
   "metadata": {},
   "source": [
    "## Conclusion"
   ]
  },
  {
   "cell_type": "markdown",
   "metadata": {},
   "source": [
    "### From above model and graph we can say we can use any of the model except LogisticRegression Model."
   ]
  },
  {
   "cell_type": "code",
   "execution_count": 38,
   "metadata": {},
   "outputs": [
    {
     "name": "stdout",
     "output_type": "stream",
     "text": [
      "Model Saved!!\n"
     ]
    }
   ],
   "source": [
    "#saving the model\n",
    "import pickle\n",
    "filename = 'wine_classification.sav'\n",
    "pickle.dump(sv, open(filename, 'wb'))\n",
    "print('Model Saved!!')"
   ]
  },
  {
   "cell_type": "code",
   "execution_count": 47,
   "metadata": {},
   "outputs": [
    {
     "name": "stdout",
     "output_type": "stream",
     "text": [
      "Model Loaded Successfully!!\n",
      "Accuracy:0.97\n"
     ]
    }
   ],
   "source": [
    "# loading the model\n",
    "loaded_model = pickle.load(open(filename, 'rb'))\n",
    "result = loaded_model.score(x_test, y_test)\n",
    "print('Model Loaded Successfully!!')\n",
    "print('Accuracy:%.2f'%result)"
   ]
  },
  {
   "cell_type": "code",
   "execution_count": null,
   "metadata": {},
   "outputs": [],
   "source": []
  }
 ],
 "metadata": {
  "kernelspec": {
   "display_name": "Python 3",
   "language": "python",
   "name": "python3"
  },
  "language_info": {
   "codemirror_mode": {
    "name": "ipython",
    "version": 3
   },
   "file_extension": ".py",
   "mimetype": "text/x-python",
   "name": "python",
   "nbconvert_exporter": "python",
   "pygments_lexer": "ipython3",
   "version": "3.8.3"
  }
 },
 "nbformat": 4,
 "nbformat_minor": 4
}
